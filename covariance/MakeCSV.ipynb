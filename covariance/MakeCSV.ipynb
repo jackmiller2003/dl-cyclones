{
 "cells": [
  {
   "cell_type": "markdown",
   "metadata": {},
   "source": [
    "This notebook was used to create the simpler dataset we use for covariance modelling\n",
    "\n",
    "It loads copies of files from `/g/data/x77/jm0124/feature_vectors/` downloaded to `../.data`, ie:\n",
    "```sh\n",
    "cd dl-cyclones\n",
    "mkdir .data\n",
    "scp ob2720@gadi.nci.org.au:/g/data/x77/jm0124/feature_vectors/feature-array-outputs-uv-train.npy .data\n",
    "scp ob2720@gadi.nci.org.au:/g/data/x77/jm0124/feature_vectors/feature-array-outputs-uv-val.npy .data\n",
    "scp ob2720@gadi.nci.org.au:/g/data/x77/jm0124/feature_vectors/feature-array-outputs-uv-test.npy .data\n",
    "scp ob2720@gadi.nci.org.au:/g/data/x77/jm0124/feature_vectors/train_feature_labels.json .data\n",
    "scp ob2720@gadi.nci.org.au:/g/data/x77/jm0124/feature_vectors/val_feature_labels.json .data\n",
    "scp ob2720@gadi.nci.org.au:/g/data/x77/jm0124/feature_vectors/test_feature_labels.json .data\n",
    "```"
   ]
  },
  {
   "cell_type": "code",
   "execution_count": 4,
   "metadata": {},
   "outputs": [],
   "source": [
    "import numpy as np\n",
    "import pandas as pd\n",
    "import matplotlib.pyplot as plt\n",
    "import json"
   ]
  },
  {
   "cell_type": "code",
   "execution_count": 5,
   "metadata": {},
   "outputs": [],
   "source": [
    "PREFIX = '../.data/' # or '/g/data/x77/jm0124/feature_vectors/'\n",
    "\n",
    "def load_json(name: str) -> dict:\n",
    "    with open(name, 'r') as f:\n",
    "        return json.load(f)\n",
    "\n",
    "def wrap_longitude(long: float) -> float:\n",
    "    return (long + 180) % 360 - 180\n",
    "\n",
    "def process_partition(partition: str):\n",
    "    # table where each row is a movement of a cyclone\n",
    "    # stores predicted and actual displacement and some metadata (start position and intensity)\n",
    "    dicts = []\n",
    "\n",
    "    # prediction vectors: shape is (n_samples, 2) of long/lat displacements in degrees\n",
    "    preds = np.load(f\"{PREFIX}feature-array-outputs-uv-{partition}.npy\")[:,[0,1]]\n",
    "\n",
    "    # this JSON stores a map from [cyclone_id]-[time] to objects containing some metadata\n",
    "    j = load_json(f\"{PREFIX}{partition}_feature_labels.json\")\n",
    "    for i, id_ in enumerate(j.keys()):\n",
    "        long, lat, inten = j[id_]['label']\n",
    "        # track_data = [[long_old, long_new], [lat_old, lat_new], [inten, inten]]\n",
    "        dicts.append({\n",
    "            'pred_long_disp': wrap_longitude(preds[i][0]), 'pred_lat_disp': preds[i][1],\n",
    "            'true_long_disp': wrap_longitude(long[1] - long[0]), 'true_lat_disp': lat[1] - lat[0],\n",
    "            'long': wrap_longitude(long[0]), 'lat': lat[0], 'intensity': inten[0]\n",
    "        })\n",
    "\n",
    "    return pd.DataFrame.from_records(dicts, columns=['pred_long_disp', 'pred_lat_disp', 'true_long_disp', 'true_lat_disp', 'long', 'lat', 'intensity'])"
   ]
  },
  {
   "cell_type": "code",
   "execution_count": 6,
   "metadata": {},
   "outputs": [],
   "source": [
    "process_partition('train').to_csv('train.csv', index=False)\n",
    "process_partition('val').to_csv('val.csv', index=False)\n",
    "process_partition('test').to_csv('test.csv', index=False)"
   ]
  }
 ],
 "metadata": {
  "kernelspec": {
   "display_name": "Python 3.10.5 64-bit",
   "language": "python",
   "name": "python3"
  },
  "language_info": {
   "codemirror_mode": {
    "name": "ipython",
    "version": 3
   },
   "file_extension": ".py",
   "mimetype": "text/x-python",
   "name": "python",
   "nbconvert_exporter": "python",
   "pygments_lexer": "ipython3",
   "version": "3.10.5"
  },
  "orig_nbformat": 4,
  "vscode": {
   "interpreter": {
    "hash": "767d51c1340bd893661ea55ea3124f6de3c7a262a8b4abca0554b478b1e2ff90"
   }
  }
 },
 "nbformat": 4,
 "nbformat_minor": 2
}
