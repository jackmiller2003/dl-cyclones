{
 "cells": [
  {
   "cell_type": "code",
   "execution_count": 1,
   "metadata": {},
   "outputs": [],
   "source": [
    "from lib import *"
   ]
  },
  {
   "cell_type": "code",
   "execution_count": 2,
   "metadata": {},
   "outputs": [],
   "source": [
    "train_set = pd.read_csv('train.csv')\n",
    "val_set = pd.read_csv('val.csv')\n",
    "test_set = pd.read_csv('test.csv')"
   ]
  },
  {
   "cell_type": "code",
   "execution_count": 3,
   "metadata": {},
   "outputs": [
    {
     "name": "stdout",
     "output_type": "stream",
     "text": [
      "Training complete\n",
      "[[0.398, 0.010], [0.010, 0.268]]\n",
      "\n",
      "GlobalCovModel -4.200237183756096\n"
     ]
    }
   ],
   "source": [
    "class GlobalCovModel(CovarianceModel):\n",
    "    def __init__(self):\n",
    "        self.cov = None\n",
    "\n",
    "    def train(self, train_set: pd.DataFrame):\n",
    "        self.cov = np.cov(df_residuals(train_set).T, ddof=1)\n",
    "        print('Training complete')\n",
    "        print(pretty_cov(self.cov))\n",
    "\n",
    "    def estimate(self, long: float, lat: float, intensity: float) -> np.ndarray:\n",
    "        return self.cov\n",
    "\n",
    "print(f\"\\nGlobalCovModel {GlobalCovModel().assess_geo_mean_log_likelihood(train_set, test_set)}\")"
   ]
  },
  {
   "cell_type": "code",
   "execution_count": 4,
   "metadata": {},
   "outputs": [
    {
     "name": "stdout",
     "output_type": "stream",
     "text": [
      "Training complete\n",
      "N -5.0: [[0.933, 0.024], [0.024, 0.403]]\n",
      "N -4.0: [[1.863, 0.133], [0.133, 0.580]]\n",
      "N -3.0: [[0.292, 0.014], [0.014, 0.241]]\n",
      "N -2.0: [[0.541, 0.055], [0.055, 0.281]]\n",
      "N -1.0: [[0.327, 0.022], [0.022, 0.261]]\n",
      "N 0.0: [[0.340, 0.042], [0.042, 0.238]]\n",
      "N 1.0: [[0.335, 0.031], [0.031, 0.220]]\n",
      "N 2.0: [[0.288, 0.041], [0.041, 0.201]]\n",
      "N 3.0: [[0.223, 0.028], [0.028, 0.182]]\n",
      "N 4.0: [[0.194, 0.031], [0.031, 0.168]]\n",
      "N 5.0: [[0.184, 0.052], [0.052, 0.165]]\n",
      "S -5.0: [[0.650, -0.052], [-0.052, 0.413]]\n",
      "S -4.0: [[0.793, -0.179], [-0.179, 0.547]]\n",
      "S -3.0: [[0.301, -0.017], [-0.017, 0.257]]\n",
      "S -2.0: [[0.462, -0.079], [-0.079, 0.291]]\n",
      "S -1.0: [[0.346, -0.029], [-0.029, 0.277]]\n",
      "S 0.0: [[0.344, -0.038], [-0.038, 0.277]]\n",
      "S 1.0: [[0.304, -0.039], [-0.039, 0.234]]\n",
      "S 2.0: [[0.308, -0.029], [-0.029, 0.221]]\n",
      "S 3.0: [[0.251, -0.035], [-0.035, 0.210]]\n",
      "S 4.0: [[0.219, -0.029], [-0.029, 0.171]]\n",
      "S 5.0: [[0.186, -0.045], [-0.045, 0.237]]\n",
      "\n",
      "BinnedCovModel -3.9268145071588076\n"
     ]
    }
   ],
   "source": [
    "class BinnedCovModel(CovarianceModel):\n",
    "    def __init__(self):\n",
    "        self.covs = {}\n",
    "\n",
    "    def train(self, train_set: pd.DataFrame):\n",
    "        for north in [True, False]:\n",
    "            correct_hemi = train_set[train_set.lat > 0] if north else train_set[train_set.lat < 0]\n",
    "            for inten in [-5.0, -4.0, -3.0, -2.0, -1.0, 0.0, 1.0, 2.0, 3.0, 4.0, 5.0]:\n",
    "                subset = correct_hemi[correct_hemi.intensity == inten]\n",
    "                self.covs[north, inten] = np.cov(df_residuals(subset).T, ddof=1)\n",
    "        print('Training complete')\n",
    "        for north, inten in self.covs:\n",
    "            print(f\"{'N' if north else 'S'} {inten}: {pretty_cov(self.covs[north, inten])}\")\n",
    "\n",
    "    def estimate(self, long: float, lat: float, intensity: float) -> np.ndarray:\n",
    "        return self.covs[lat > 0, intensity]\n",
    "\n",
    "print(f\"\\nBinnedCovModel {BinnedCovModel().assess_geo_mean_log_likelihood(train_set, test_set)}\")"
   ]
  }
 ],
 "metadata": {
  "kernelspec": {
   "display_name": "Python 3.10.5 64-bit",
   "language": "python",
   "name": "python3"
  },
  "language_info": {
   "codemirror_mode": {
    "name": "ipython",
    "version": 3
   },
   "file_extension": ".py",
   "mimetype": "text/x-python",
   "name": "python",
   "nbconvert_exporter": "python",
   "pygments_lexer": "ipython3",
   "version": "3.10.5"
  },
  "orig_nbformat": 4,
  "vscode": {
   "interpreter": {
    "hash": "e7370f93d1d0cde622a1f8e1c04877d8463912d04d973331ad4851f04de6915a"
   }
  }
 },
 "nbformat": 4,
 "nbformat_minor": 2
}
