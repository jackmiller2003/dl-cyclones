{
 "cells": [
  {
   "cell_type": "code",
   "execution_count": 1,
   "id": "59e5b704-452a-4f84-9adb-bfb9b00c2e61",
   "metadata": {},
   "outputs": [
    {
     "name": "stdout",
     "output_type": "stream",
     "text": [
      "\u001b[0m\u001b[01;34mcc\u001b[0m/  \u001b[01;34mciwc\u001b[0m/  \u001b[01;34mclwc\u001b[0m/  \u001b[01;34mcrwc\u001b[0m/  \u001b[01;34mcswc\u001b[0m/  \u001b[01;34md\u001b[0m/  \u001b[01;34mo3\u001b[0m/  \u001b[01;34mpv\u001b[0m/  \u001b[01;34mq\u001b[0m/  \u001b[01;34mr\u001b[0m/  \u001b[01;34mt\u001b[0m/  \u001b[01;34mu\u001b[0m/  \u001b[01;34mv\u001b[0m/  \u001b[01;34mvo\u001b[0m/  \u001b[01;34mw\u001b[0m/  \u001b[01;34mz\u001b[0m/\n"
     ]
    }
   ],
   "source": [
    "ls /g/data/rt52/era5/pressure-levels/reanalysis/"
   ]
  },
  {
   "cell_type": "code",
   "execution_count": 2,
   "id": "9fcd1da7-3e36-4609-90bd-2e20068425a8",
   "metadata": {},
   "outputs": [
    {
     "name": "stdout",
     "output_type": "stream",
     "text": [
      "u_era5_oper_pl_19790101-19790131.nc  u_era5_oper_pl_19790701-19790731.nc\n",
      "u_era5_oper_pl_19790201-19790228.nc  u_era5_oper_pl_19790801-19790831.nc\n",
      "u_era5_oper_pl_19790301-19790331.nc  u_era5_oper_pl_19790901-19790930.nc\n",
      "u_era5_oper_pl_19790401-19790430.nc  u_era5_oper_pl_19791001-19791031.nc\n",
      "u_era5_oper_pl_19790501-19790531.nc  u_era5_oper_pl_19791101-19791130.nc\n",
      "u_era5_oper_pl_19790601-19790630.nc  u_era5_oper_pl_19791201-19791231.nc\n"
     ]
    }
   ],
   "source": [
    "ls /g/data/rt52/era5/pressure-levels/reanalysis/u/1979"
   ]
  },
  {
   "cell_type": "code",
   "execution_count": 3,
   "id": "52f3c888-9508-4942-9f26-874fb99a1950",
   "metadata": {},
   "outputs": [],
   "source": [
    "#import xarray"
   ]
  },
  {
   "cell_type": "code",
   "execution_count": 4,
   "id": "da72f0c5-5cf6-4289-ba85-8f689cb39c06",
   "metadata": {},
   "outputs": [],
   "source": [
    "#ds = xarray.open_mfdataset(\n",
    "#    paths='/g/data/rt52/era5/pressure-levels/reanalysis/u/1979/u_era5_oper_pl_*.nc',\n",
    "#    chunks={ \"time\": 100, \"latitude\": 50, \"longitude\": 50 }\n",
    "#)\n",
    "#ds"
   ]
  },
  {
   "cell_type": "code",
   "execution_count": 5,
   "id": "3c81791f-9cbc-4385-ba36-d2d1f17a005d",
   "metadata": {},
   "outputs": [],
   "source": [
    "import track_to_ndarray as lib\n",
    "import numpy as np\n",
    "import os\n",
    "import xarray"
   ]
  },
  {
   "cell_type": "code",
   "execution_count": null,
   "id": "a7368c9e-2b9b-42a9-91f4-69621abb2fee",
   "metadata": {},
   "outputs": [],
   "source": []
  },
  {
   "cell_type": "code",
   "execution_count": 6,
   "id": "ab868111-649a-4428-a497-d72d22d7a9af",
   "metadata": {},
   "outputs": [],
   "source": [
    "ds = xarray.open_mfdataset(\"/g/data/rt52/era5/pressure-levels/reanalysis/u/1979/u_era5_oper_pl_19791201-19791231.nc\",\n",
    "        chunks={ \"time\": 1, \"latitude\": 40, \"longitude\": 40 },\n",
    "        combine='nested', concat_dim='time')\n",
    "#ds"
   ]
  },
  {
   "cell_type": "code",
   "execution_count": 9,
   "id": "ee626272-8ac9-4e60-9f2a-3a0833f1dde4",
   "metadata": {},
   "outputs": [
    {
     "data": {
      "text/plain": [
       "array([[[-2.07901001e-03, -2.07901001e-03,  4.13227081e-03,\n",
       "         -2.07901001e-03,  4.13227081e-03, -2.07901001e-03,\n",
       "         -2.07901001e-03, -2.07901001e-03, -2.07901001e-03,\n",
       "         -2.07901001e-03, -2.07901001e-03, -2.07901001e-03,\n",
       "         -2.07901001e-03, -2.07901001e-03, -2.07901001e-03,\n",
       "         -2.07901001e-03,  4.13227081e-03, -2.07901001e-03,\n",
       "         -2.07901001e-03, -2.07901001e-03, -2.07901001e-03,\n",
       "         -2.07901001e-03, -2.07901001e-03, -2.07901001e-03,\n",
       "         -2.07901001e-03, -2.07901001e-03, -2.07901001e-03,\n",
       "         -2.07901001e-03, -2.07901001e-03, -2.07901001e-03,\n",
       "         -2.07901001e-03, -2.07901001e-03, -2.07901001e-03,\n",
       "         -2.07901001e-03, -2.07901001e-03, -2.07901001e-03,\n",
       "         -2.07901001e-03],\n",
       "        [-1.94698572e-03, -1.94698572e-03, -1.94698572e-03,\n",
       "          3.76015902e-03, -1.94698572e-03, -1.94698572e-03,\n",
       "         -1.94698572e-03, -1.94698572e-03, -1.94698572e-03,\n",
       "         -1.94698572e-03, -1.94698572e-03, -1.94698572e-03,\n",
       "         -1.94698572e-03, -1.94698572e-03, -1.94698572e-03,\n",
       "          3.76015902e-03, -1.94698572e-03, -1.94698572e-03,\n",
       "          3.76015902e-03, -1.94698572e-03, -1.94698572e-03,\n",
       "         -1.94698572e-03, -1.94698572e-03, -1.94698572e-03,\n",
       "         -1.94698572e-03, -1.94698572e-03, -1.94698572e-03,\n",
       "         -1.94698572e-03, -1.94698572e-03, -1.94698572e-03,\n",
       "         -1.94698572e-03, -1.94698572e-03, -1.94698572e-03,\n",
       "         -1.94698572e-03,  3.76015902e-03, -1.94698572e-03,\n",
       "         -1.94698572e-03],\n",
       "        [ 4.20153000e+05,  3.73556375e+05,  3.48254031e+05,\n",
       "          3.17750531e+05,  2.98666688e+05,  2.78909781e+05,\n",
       "          2.41101641e+05,  2.18828250e+05,  1.90405219e+05,\n",
       "          1.71275500e+05,  1.50623672e+05,  1.37406500e+05,\n",
       "          1.26506922e+05,  1.17175359e+05,  1.09082891e+05,\n",
       "          1.01915953e+05,  9.54832812e+04,  8.44460312e+04,\n",
       "          7.49002969e+04,  6.62953594e+04,  5.84782656e+04,\n",
       "          5.13266094e+04,  4.47333281e+04,  3.86066094e+04,\n",
       "          3.28929375e+04,  2.75234688e+04,  2.24522969e+04,\n",
       "          2.00276094e+04,  1.76641250e+04,  1.53618281e+04,\n",
       "          1.31207188e+04,  1.09408125e+04,  8.82207812e+03,\n",
       "          6.75690625e+03,  4.76056250e+03,  2.85600000e+03,\n",
       "          1.05853125e+03],\n",
       "        [ 1.30196232e-02,  3.36673530e-03,  2.75289267e-03,\n",
       "          1.29368016e-03,  8.44874419e-04,  3.91319394e-04,\n",
       "          1.27734616e-04,  8.02418217e-05,  3.39364633e-05,\n",
       "          2.32504681e-05,  1.25644729e-05,  9.00309533e-06,\n",
       "          7.81565905e-06,  7.81565905e-06,  6.62822276e-06,\n",
       "          5.44078648e-06,  6.62822276e-06,  6.91972673e-07,\n",
       "         -4.95463610e-07,  6.91972673e-07,  6.91972673e-07,\n",
       "          6.91972673e-07,  6.91972673e-07,  6.91972673e-07,\n",
       "          6.91972673e-07,  6.91972673e-07,  6.91972673e-07,\n",
       "          6.91972673e-07,  6.91972673e-07,  6.91972673e-07,\n",
       "          6.91972673e-07,  6.91972673e-07,  6.91972673e-07,\n",
       "          6.91972673e-07,  3.06591392e-06,  9.00309533e-06,\n",
       "         -4.95463610e-07]]], dtype=float32)"
      ]
     },
     "execution_count": 9,
     "metadata": {},
     "output_type": "execute_result"
    }
   ],
   "source": [
    "lib.track_to_ndarray(['2010-01-01'], [(149, -48)])"
   ]
  }
 ],
 "metadata": {
  "kernelspec": {
   "display_name": "Python 3 (ipykernel)",
   "language": "python",
   "name": "python3"
  },
  "language_info": {
   "codemirror_mode": {
    "name": "ipython",
    "version": 3
   },
   "file_extension": ".py",
   "mimetype": "text/x-python",
   "name": "python",
   "nbconvert_exporter": "python",
   "pygments_lexer": "ipython3",
   "version": "3.9.10"
  }
 },
 "nbformat": 4,
 "nbformat_minor": 5
}
