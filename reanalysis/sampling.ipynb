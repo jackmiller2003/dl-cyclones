{
 "cells": [
  {
   "cell_type": "markdown",
   "id": "e64d3b79-1b84-4422-921e-12d7426b3646",
   "metadata": {},
   "source": [
    "## Train/valid/test sampling\n",
    "\n",
    "Copies all the NetCDF files from cyclone_binaries to a sibling folder partitions with subfolders for each part of the split"
   ]
  },
  {
   "cell_type": "code",
   "execution_count": 5,
   "id": "cc7f9082-6e37-48f4-a0b0-2a910ac22087",
   "metadata": {},
   "outputs": [
    {
     "name": "stdout",
     "output_type": "stream",
     "text": [
      "Starting...\n",
      "Init finished\n"
     ]
    },
    {
     "name": "stderr",
     "output_type": "stream",
     "text": [
      "100%|██████████| 80/80 [00:10<00:00,  7.85it/s]\n",
      "100%|██████████| 10/10 [00:00<00:00, 12.25it/s]\n",
      "100%|██████████| 10/10 [00:01<00:00,  8.24it/s]\n"
     ]
    }
   ],
   "source": [
    "from tqdm import tqdm\n",
    "import random\n",
    "import shutil\n",
    "from pathlib import Path\n",
    "\n",
    "print(\"Starting...\")\n",
    "\n",
    "# Root folder for our NetCDF files\n",
    "def cyclone_binary_path() -> str:\n",
    "    # Based on process_tracks.py (we don't import it to avoid importing the universe)\n",
    "    user = 'ob2720'\n",
    "    return f'/g/data/x77/{user}/cyclone_binaries/'\n",
    "\n",
    "path = Path(cyclone_binary_path())\n",
    "\n",
    "# List of IBTrACS cyclone NetCDF files\n",
    "files = [p for p in path.iterdir()]\n",
    "files = files[:100]\n",
    "\n",
    "# Split:\n",
    "# 80% train\n",
    "# 10% valid\n",
    "# 10% test\n",
    "\n",
    "# We make a folder of copies of NetCDF files for each set\n",
    "# We could use a library's dataset splitting function with a random seed, or we could use\n",
    "# symlinks to the original files, but this gives us 100% confidence our split stays intact\n",
    "\n",
    "random.shuffle(files) # much random, very unbias\n",
    "part1 = int(len(files) * 0.8)\n",
    "part2 = int(len(files) * 0.9)\n",
    "train = files[:part1]\n",
    "valid = files[part1:part2]\n",
    "test = files[part2:]\n",
    "\n",
    "print(\"Init finished\")\n",
    "\n",
    "train_path = path.parent / 'partition' / 'train'\n",
    "train_path.mkdir(parents=True, exist_ok=True)\n",
    "for file in tqdm(train):\n",
    "    shutil.copy(str(file.resolve()), str((train_path / file.name).resolve()))\n",
    "\n",
    "valid_path = path.parent / 'partition' / 'valid'\n",
    "valid_path.mkdir(parents=True, exist_ok=True)\n",
    "for file in tqdm(valid):\n",
    "    shutil.copy(str(file.resolve()), str((valid_path / file.name).resolve()))\n",
    "\n",
    "test_path = path.parent / 'partition' / 'test'\n",
    "test_path.mkdir(parents=True, exist_ok=True)\n",
    "for file in tqdm(test):\n",
    "    shutil.copy(str(file.resolve()), str((test_path / file.name).resolve()))\n",
    "\n"
   ]
  }
 ],
 "metadata": {
  "kernelspec": {
   "display_name": "Python [conda env:analysis3-22.01]",
   "language": "python",
   "name": "conda-env-analysis3-22.01-py"
  },
  "language_info": {
   "codemirror_mode": {
    "name": "ipython",
    "version": 3
   },
   "file_extension": ".py",
   "mimetype": "text/x-python",
   "name": "python",
   "nbconvert_exporter": "python",
   "pygments_lexer": "ipython3",
   "version": "3.9.12"
  }
 },
 "nbformat": 4,
 "nbformat_minor": 5
}
