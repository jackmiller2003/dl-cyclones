{
 "cells": [
  {
   "cell_type": "markdown",
   "id": "e64d3b79-1b84-4422-921e-12d7426b3646",
   "metadata": {},
   "source": [
    "## Train/valid/test sampling\n",
    "\n",
    "Copies all the NetCDF files from cyclone_binaries to a sibling folder partitions with subfolders for each part of the split"
   ]
  },
  {
   "cell_type": "code",
   "execution_count": 3,
   "id": "cc7f9082-6e37-48f4-a0b0-2a910ac22087",
   "metadata": {},
   "outputs": [
    {
     "name": "stdout",
     "output_type": "stream",
     "text": [
      "Starting...\n",
      "Init finished\n"
     ]
    },
    {
     "name": "stderr",
     "output_type": "stream",
     "text": [
      "100%|██████████| 160/160 [00:48<00:00,  3.28it/s]\n",
      " 22%|██▏       | 35/160 [00:14<00:52,  2.38it/s]"
     ]
    },
    {
     "name": "stdout",
     "output_type": "stream",
     "text": [
      "Has nan: 1993045S13170\n"
     ]
    },
    {
     "name": "stderr",
     "output_type": "stream",
     "text": [
      "100%|██████████| 160/160 [01:07<00:00,  2.37it/s]\n"
     ]
    },
    {
     "name": "stdout",
     "output_type": "stream",
     "text": [
      "Has nan: 1991166N10257\n"
     ]
    },
    {
     "name": "stderr",
     "output_type": "stream",
     "text": [
      "100%|██████████| 20/20 [00:06<00:00,  3.21it/s]\n",
      "100%|██████████| 20/20 [00:07<00:00,  2.79it/s]\n",
      "100%|██████████| 20/20 [00:05<00:00,  3.36it/s]\n",
      "100%|██████████| 20/20 [00:07<00:00,  2.79it/s]\n"
     ]
    }
   ],
   "source": [
    "from tqdm import tqdm\n",
    "import random\n",
    "import shutil\n",
    "from pathlib import Path\n",
    "\n",
    "import sys\n",
    "sys.path.append(str(Path().resolve().parent/'tracks'))\n",
    "import tracks_module\n",
    "import importlib\n",
    "importlib.reload(tracks_module)\n",
    "\n",
    "print(\"Starting...\")\n",
    "\n",
    "# Root folder for our NetCDF files\n",
    "def cyclone_binary_path() -> str:\n",
    "    # Based on process_tracks.py (we don't import it to avoid importing the universe)\n",
    "    user = 'ob2720'\n",
    "    return f'/g/data/x77/{user}/cyclone_binaries/'\n",
    "\n",
    "path = Path(cyclone_binary_path())\n",
    "\n",
    "# List of IBTrACS cyclone NetCDF files\n",
    "# one of the papers we're basing this off uses 2014253N13260 as a specific example so we want this\n",
    "# in our test set to get comparable results (ie it's unseen to both models)\n",
    "special = path / '2014253N13260.nc'\n",
    "files = [p for p in path.iterdir() if str(p) != str(special)]\n",
    "\n",
    "# Split:\n",
    "# 80% train\n",
    "# 10% valid\n",
    "# 10% test\n",
    "\n",
    "# We make a folder of copies of NetCDF files for each set\n",
    "# We could use a library's dataset splitting function with a random seed, or we could use\n",
    "# symlinks to the original files, but this gives us 100% confidence our split stays intact\n",
    "\n",
    "files = files[:200] # take first 199 + add the special one after to get 200  ## TODO: remove this line, change to 199 when special exists\n",
    "random.shuffle(files) # much random, very unbias\n",
    "# files.append(special) ## TODO: special doesn't exist yet\n",
    "\n",
    "part1 = int(len(files) * 0.8)\n",
    "part2 = int(len(files) * 0.9)\n",
    "train = files[:part1]\n",
    "valid = files[part1:part2]\n",
    "test = files[part2:]\n",
    "\n",
    "print(\"Init finished\")\n",
    "\n",
    "# Don't do anything if existing partition is there (in this case manually delete old / edit this script)\n",
    "partition_path = path.parent / 'partition'\n",
    "assert not partition_path.exists()\n",
    "\n",
    "train_path = partition_path / 'train'\n",
    "train_path.mkdir(parents=True, exist_ok=True)\n",
    "for file in tqdm(train):\n",
    "    shutil.copy(str(file.resolve()), str((train_path / file.name).resolve()))\n",
    "tracks_module.all_available_tracks(data_local=str(train_path), write_file=str(partition_path / 'train.json'))\n",
    "\n",
    "valid_path = partition_path / 'valid'\n",
    "valid_path.mkdir(parents=True, exist_ok=True)\n",
    "for file in tqdm(valid):\n",
    "    shutil.copy(str(file.resolve()), str((valid_path / file.name).resolve()))\n",
    "tracks_module.all_available_tracks(data_local=str(valid_path), write_file=str(partition_path / 'valid.json'))\n",
    "\n",
    "test_path = partition_path / 'test'\n",
    "test_path.mkdir(parents=True, exist_ok=True)\n",
    "for file in tqdm(test):\n",
    "    shutil.copy(str(file.resolve()), str((test_path / file.name).resolve()))\n",
    "tracks_module.all_available_tracks(data_local=str(test_path), write_file=str(partition_path / 'test.json'))"
   ]
  }
 ],
 "metadata": {
  "kernelspec": {
   "display_name": "Python [conda env:analysis3-22.01]",
   "language": "python",
   "name": "conda-env-analysis3-22.01-py"
  },
  "language_info": {
   "codemirror_mode": {
    "name": "ipython",
    "version": 3
   },
   "file_extension": ".py",
   "mimetype": "text/x-python",
   "name": "python",
   "nbconvert_exporter": "python",
   "pygments_lexer": "ipython3",
   "version": "3.9.12"
  }
 },
 "nbformat": 4,
 "nbformat_minor": 5
}
