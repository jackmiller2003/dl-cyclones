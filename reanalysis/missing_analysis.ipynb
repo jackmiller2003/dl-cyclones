{
 "cells": [
  {
   "cell_type": "code",
   "execution_count": 2,
   "id": "b66c608f-a1d7-46a3-a4a5-cc3011a72631",
   "metadata": {},
   "outputs": [],
   "source": [
    "import json\n",
    "with open(\"../tracks/proc_tracks.json\", \"r\") as f:\n",
    "    tracks = json.load(f)\n",
    "tracknames = list(tracks.keys())\n",
    "with open(\"/home/156/ob2720/files.txt\", \"r\") as f:\n",
    "    filenames = [x[:-4] for x in f.readlines() if len(x)]\n",
    "missing = list(set(tracknames).difference(set(filenames)))"
   ]
  },
  {
   "cell_type": "code",
   "execution_count": 7,
   "id": "6002c01c-ab40-4d20-b032-7865b80ec544",
   "metadata": {},
   "outputs": [],
   "source": [
    "same_mo = 0\n",
    "for ssid in tracknames:\n",
    "    times = tracks[ssid]['iso_times']\n",
    "    smo = times[0].split('-')[1]\n",
    "    emo = times[-1].split('-')[1]\n",
    "    if smo == emo: same_mo += 1"
   ]
  },
  {
   "cell_type": "code",
   "execution_count": 10,
   "id": "62a9822d-a63e-472d-b5a1-fd2ad1d45d88",
   "metadata": {},
   "outputs": [
    {
     "data": {
      "text/plain": [
       "(1056, 3315)"
      ]
     },
     "execution_count": 10,
     "metadata": {},
     "output_type": "execute_result"
    }
   ],
   "source": [
    "len(tracknames) - same_mo, same_mo"
   ]
  },
  {
   "cell_type": "code",
   "execution_count": 25,
   "id": "11a64f2d-62b3-4eef-8605-6417a3263661",
   "metadata": {},
   "outputs": [
    {
     "data": {
      "text/plain": [
       "['1984011S18149',\n",
       " '1999168N19086',\n",
       " '2017081S10096',\n",
       " '1984267N18120',\n",
       " '2016295N13089',\n",
       " '1996260N14217',\n",
       " '2014294N20265',\n",
       " '1995235N24281',\n",
       " '1981015S09078']"
      ]
     },
     "execution_count": 25,
     "metadata": {},
     "output_type": "execute_result"
    }
   ],
   "source": [
    "len(missing)\n",
    "missing[1:10]"
   ]
  },
  {
   "cell_type": "code",
   "execution_count": 23,
   "id": "78a13e52-abd8-4250-8a1e-31e4dc10c8a8",
   "metadata": {},
   "outputs": [
    {
     "data": {
      "text/plain": [
       "(True, False)"
      ]
     },
     "execution_count": 23,
     "metadata": {},
     "output_type": "execute_result"
    }
   ],
   "source": [
    "import importlib\n",
    "importlib.reload(p)\n",
    "p.netcdf_file_exists_for_track(missing[0]), p.netcdf_file_exists_for_track(missing[1])"
   ]
  },
  {
   "cell_type": "code",
   "execution_count": 16,
   "id": "5046a837-7af2-461e-afad-9b8070d29b55",
   "metadata": {},
   "outputs": [],
   "source": [
    "import track_lib as lib\n",
    "import process_tracks as p"
   ]
  },
  {
   "cell_type": "code",
   "execution_count": 18,
   "id": "0ca9cd41-bdbb-4275-a3be-5f740c7e0277",
   "metadata": {},
   "outputs": [
    {
     "name": "stdout",
     "output_type": "stream",
     "text": [
      "Getting ndarray for cyclone 2016158N22272, length 28\n",
      "(<xarray.Dataset>\n",
      "Dimensions:  (level: 5, time: 28, latitude: 160, longitude: 160)\n",
      "Coordinates:\n",
      "  * level    (level) int32 225 500 650 750 850\n",
      "  * time     (time) datetime64[ns] 2016-06-05T12:00:00 ... 2016-06-08T18:00:00\n",
      "Dimensions without coordinates: latitude, longitude\n",
      "Data variables:\n",
      "    u        (time, level, latitude, longitude) float32 dask.array<chunksize=(1, 5, 130, 9), meta=np.ndarray>\n",
      "Attributes:\n",
      "    Conventions:  CF-1.6\n",
      "    history:      2020-11-19 18:32:16 UTC+1100 by era5_replication_tools-1.7....\n",
      "    license:      Licence to use Copernicus Products: https://apps.ecmwf.int/...\n",
      "    summary:      ERA5 is the fifth generation ECMWF atmospheric reanalysis o...\n",
      "    title:        ERA5 pressure-levels oper u_component_of_wind 20160601-2016..., <xarray.Dataset>\n",
      "Dimensions:  (level: 5, time: 28, latitude: 160, longitude: 160)\n",
      "Coordinates:\n",
      "  * level    (level) int32 225 500 650 750 850\n",
      "  * time     (time) datetime64[ns] 2016-06-05T12:00:00 ... 2016-06-08T18:00:00\n",
      "Dimensions without coordinates: latitude, longitude\n",
      "Data variables:\n",
      "    v        (time, level, latitude, longitude) float32 dask.array<chunksize=(1, 5, 130, 9), meta=np.ndarray>\n",
      "Attributes:\n",
      "    Conventions:  CF-1.6\n",
      "    history:      2020-11-19 17:01:02 UTC+1100 by era5_replication_tools-1.7....\n",
      "    license:      Licence to use Copernicus Products: https://apps.ecmwf.int/...\n",
      "    summary:      ERA5 is the fifth generation ECMWF atmospheric reanalysis o...\n",
      "    title:        ERA5 pressure-levels oper v_component_of_wind 20160601-2016..., <xarray.Dataset>\n",
      "Dimensions:  (level: 5, time: 28, latitude: 160, longitude: 160)\n",
      "Coordinates:\n",
      "  * level    (level) int32 225 500 650 750 850\n",
      "  * time     (time) datetime64[ns] 2016-06-05T12:00:00 ... 2016-06-08T18:00:00\n",
      "Dimensions without coordinates: latitude, longitude\n",
      "Data variables:\n",
      "    z        (time, level, latitude, longitude) float32 dask.array<chunksize=(1, 5, 130, 9), meta=np.ndarray>\n",
      "Attributes:\n",
      "    Conventions:  CF-1.6\n",
      "    history:      2020-11-19 18:29:06 UTC+1100 by era5_replication_tools-1.7....\n",
      "    license:      Licence to use Copernicus Products: https://apps.ecmwf.int/...\n",
      "    summary:      ERA5 is the fifth generation ECMWF atmospheric reanalysis o...\n",
      "    title:        ERA5 pressure-levels oper geopotential 20160601-20160630, <xarray.Dataset>\n",
      "Dimensions:  (level: 5, time: 28, latitude: 160, longitude: 160)\n",
      "Coordinates:\n",
      "  * level    (level) int32 225 500 650 750 850\n",
      "  * time     (time) datetime64[ns] 2016-06-05T12:00:00 ... 2016-06-08T18:00:00\n",
      "Dimensions without coordinates: latitude, longitude\n",
      "Data variables:\n",
      "    pv       (time, level, latitude, longitude) float32 dask.array<chunksize=(1, 5, 130, 9), meta=np.ndarray>\n",
      "Attributes:\n",
      "    Conventions:  CF-1.6\n",
      "    history:      2020-12-05 14:20:19 UTC+1100 by era5_replication_tools-1.8....\n",
      "    license:      Licence to use Copernicus Products: https://apps.ecmwf.int/...\n",
      "    summary:      ERA5 is the fifth generation ECMWF atmospheric reanalysis o...\n",
      "    title:        ERA5 pressure-levels oper potential_vorticity 20160601-2016...)\n",
      "Finished processing cyclone 2016158N22272 in 157.56 seconds\n"
     ]
    }
   ],
   "source": [
    "p.create_netcdf_file_for_track(missing[0])"
   ]
  }
 ],
 "metadata": {
  "kernelspec": {
   "display_name": "Python 3 (ipykernel)",
   "language": "python",
   "name": "python3"
  },
  "language_info": {
   "codemirror_mode": {
    "name": "ipython",
    "version": 3
   },
   "file_extension": ".py",
   "mimetype": "text/x-python",
   "name": "python",
   "nbconvert_exporter": "python",
   "pygments_lexer": "ipython3",
   "version": "3.9.12"
  }
 },
 "nbformat": 4,
 "nbformat_minor": 5
}
