{
 "cells": [
  {
   "cell_type": "code",
   "execution_count": 2,
   "id": "6a863397-2b67-4976-ae9a-8e6b9e464edd",
   "metadata": {},
   "outputs": [],
   "source": [
    "import xarray\n",
    "import numpy as np"
   ]
  },
  {
   "cell_type": "code",
   "execution_count": 11,
   "id": "4a90341d-01e7-41fa-8854-dd3a730b131c",
   "metadata": {},
   "outputs": [],
   "source": [
    "with open ('/g/data/x77/jm0124/1988234N13299', 'rb') as cyclone:\n",
    "    c = np.load(cyclone)"
   ]
  },
  {
   "cell_type": "code",
   "execution_count": 12,
   "id": "68a3aeea-a0a5-4820-ba9b-b79836689fd4",
   "metadata": {},
   "outputs": [
    {
     "name": "stdout",
     "output_type": "stream",
     "text": [
      "(31, 4, 5, 40, 40)\n"
     ]
    }
   ],
   "source": [
    "print(np.shape(c))"
   ]
  },
  {
   "cell_type": "code",
   "execution_count": null,
   "id": "37d923b4-21d5-4fe1-88f4-c4de1af6b4c9",
   "metadata": {},
   "outputs": [],
   "source": []
  }
 ],
 "metadata": {
  "kernelspec": {
   "display_name": "Python 3 (ipykernel)",
   "language": "python",
   "name": "python3"
  },
  "language_info": {
   "codemirror_mode": {
    "name": "ipython",
    "version": 3
   },
   "file_extension": ".py",
   "mimetype": "text/x-python",
   "name": "python",
   "nbconvert_exporter": "python",
   "pygments_lexer": "ipython3",
   "version": "3.9.9"
  }
 },
 "nbformat": 4,
 "nbformat_minor": 5
}
