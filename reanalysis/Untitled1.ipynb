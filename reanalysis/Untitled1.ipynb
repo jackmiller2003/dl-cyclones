{
 "cells": [
  {
   "cell_type": "code",
   "execution_count": 1,
   "id": "607d67b1-3cf8-465b-8389-176fdcc53c07",
   "metadata": {},
   "outputs": [],
   "source": [
    "import track_lib as lib"
   ]
  },
  {
   "cell_type": "code",
   "execution_count": 2,
   "id": "20711711-6d3e-4212-9980-6224e13906ec",
   "metadata": {},
   "outputs": [],
   "source": [
    "import process_tracks as pt"
   ]
  },
  {
   "cell_type": "code",
   "execution_count": 16,
   "id": "dbc46baf-e520-47c9-aa42-e764acea7a3c",
   "metadata": {},
   "outputs": [
    {
     "data": {
      "text/plain": [
       "<module 'process_tracks' from '/home/156/ob2720/cyclones/reanalysis/process_tracks.py'>"
      ]
     },
     "execution_count": 16,
     "metadata": {},
     "output_type": "execute_result"
    }
   ],
   "source": [
    "import importlib\n",
    "importlib.reload(lib)\n",
    "importlib.reload(pt)"
   ]
  },
  {
   "cell_type": "code",
   "execution_count": 17,
   "id": "b3aee4ad-b854-449f-b46b-c88ca48136a7",
   "metadata": {},
   "outputs": [
    {
     "name": "stdout",
     "output_type": "stream",
     "text": [
      "Getting ndarray for cyclone 1979027S15167, length 73\n",
      "(<xarray.Dataset>\n",
      "Dimensions:  (level: 5, time: 73, latitude: 160, longitude: 160)\n",
      "Coordinates:\n",
      "  * level    (level) int32 225 500 650 750 850\n",
      "  * time     (time) datetime64[ns] 1979-01-27 1979-01-27T03:00:00 ... 1979-02-05\n",
      "Dimensions without coordinates: latitude, longitude\n",
      "Data variables:\n",
      "    u        (time, level, latitude, longitude) float32 dask.array<chunksize=(1, 5, 160, 100), meta=np.ndarray>\n",
      "Attributes:\n",
      "    Conventions:  CF-1.6\n",
      "    history:      2020-11-07 11:13:12 UTC+1100 by era5_replication_tools-1.2....\n",
      "    license:      Licence to use Copernicus Products: https://apps.ecmwf.int/...\n",
      "    summary:      ERA5 is the fifth generation ECMWF atmospheric reanalysis o...\n",
      "    title:        ERA5 pressure-levels oper u_component_of_wind 19790101-1979..., <xarray.Dataset>\n",
      "Dimensions:  (level: 5, time: 73, latitude: 160, longitude: 160)\n",
      "Coordinates:\n",
      "  * level    (level) int32 225 500 650 750 850\n",
      "  * time     (time) datetime64[ns] 1979-01-27 1979-01-27T03:00:00 ... 1979-02-05\n",
      "Dimensions without coordinates: latitude, longitude\n",
      "Data variables:\n",
      "    v        (time, level, latitude, longitude) float32 dask.array<chunksize=(1, 5, 160, 100), meta=np.ndarray>\n",
      "Attributes:\n",
      "    Conventions:  CF-1.6\n",
      "    history:      2020-11-07 10:44:52 UTC+1100 by era5_replication_tools-1.2....\n",
      "    license:      Licence to use Copernicus Products: https://apps.ecmwf.int/...\n",
      "    summary:      ERA5 is the fifth generation ECMWF atmospheric reanalysis o...\n",
      "    title:        ERA5 pressure-levels oper v_component_of_wind 19790101-1979..., <xarray.Dataset>\n",
      "Dimensions:  (level: 5, time: 73, latitude: 160, longitude: 160)\n",
      "Coordinates:\n",
      "  * level    (level) int32 225 500 650 750 850\n",
      "  * time     (time) datetime64[ns] 1979-01-27 1979-01-27T03:00:00 ... 1979-02-05\n",
      "Dimensions without coordinates: latitude, longitude\n",
      "Data variables:\n",
      "    z        (time, level, latitude, longitude) float32 dask.array<chunksize=(1, 5, 160, 100), meta=np.ndarray>\n",
      "Attributes:\n",
      "    Conventions:  CF-1.6\n",
      "    history:      2020-11-07 08:51:51 UTC+1100 by era5_replication_tools-1.2....\n",
      "    license:      Licence to use Copernicus Products: https://apps.ecmwf.int/...\n",
      "    summary:      ERA5 is the fifth generation ECMWF atmospheric reanalysis o...\n",
      "    title:        ERA5 pressure-levels oper geopotential 19790101-19790131, <xarray.Dataset>\n",
      "Dimensions:  (level: 5, time: 73, latitude: 160, longitude: 160)\n",
      "Coordinates:\n",
      "  * level    (level) int32 225 500 650 750 850\n",
      "  * time     (time) datetime64[ns] 1979-01-27 1979-01-27T03:00:00 ... 1979-02-05\n",
      "Dimensions without coordinates: latitude, longitude\n",
      "Data variables:\n",
      "    pv       (time, level, latitude, longitude) float32 dask.array<chunksize=(1, 5, 160, 100), meta=np.ndarray>\n",
      "Attributes:\n",
      "    Conventions:  CF-1.6\n",
      "    history:      2020-12-21 19:54:18 UTC+1100 by era5_replication_tools-1.8....\n",
      "    license:      Licence to use Copernicus Products: https://apps.ecmwf.int/...\n",
      "    summary:      ERA5 is the fifth generation ECMWF atmospheric reanalysis o...\n",
      "    title:        ERA5 pressure-levels oper potential_vorticity 19790101-1979...)\n",
      "Finished processing cyclone 1979027S15167 in 411.88 seconds\n"
     ]
    }
   ],
   "source": [
    "# 1979027S15167 is known to go over a month boundary\n",
    "pt.create_netcdf_file_for_track('1979027S15167')"
   ]
  }
 ],
 "metadata": {
  "kernelspec": {
   "display_name": "Python 3 (ipykernel)",
   "language": "python",
   "name": "python3"
  },
  "language_info": {
   "codemirror_mode": {
    "name": "ipython",
    "version": 3
   },
   "file_extension": ".py",
   "mimetype": "text/x-python",
   "name": "python",
   "nbconvert_exporter": "python",
   "pygments_lexer": "ipython3",
   "version": "3.9.12"
  }
 },
 "nbformat": 4,
 "nbformat_minor": 5
}
