{
 "cells": [
  {
   "cell_type": "code",
   "execution_count": 5,
   "id": "aeb3a3c2-25fe-4bdf-a371-470850e42512",
   "metadata": {},
   "outputs": [],
   "source": [
    "import numpy as np\n",
    "import pandas as pd\n",
    "import matplotlib.pyplot as plt\n",
    "import json"
   ]
  },
  {
   "cell_type": "code",
   "execution_count": 2,
   "id": "b8678253-ac2b-4724-8dbb-ee2179a71ad8",
   "metadata": {},
   "outputs": [],
   "source": [
    "train_labels = np.load(\"/g/data/x77/ob2720/arrays/train_labels.npy\")\n",
    "train_preds = np.load(\"/g/data/x77/ob2720/arrays/train_preds.npy\")\n",
    "train_latent = np.load(\"/g/data/x77/ob2720/arrays/train_latent.npy\")\n",
    "val_labels = np.load(\"/g/data/x77/ob2720/arrays/val_labels.npy\")\n",
    "val_preds = np.load(\"/g/data/x77/ob2720/arrays/val_preds.npy\")\n",
    "val_latent = np.load(\"/g/data/x77/ob2720/arrays/val_latent.npy\")\n",
    "test_labels = np.load(\"/g/data/x77/ob2720/arrays/test_labels.npy\")\n",
    "test_preds = np.load(\"/g/data/x77/ob2720/arrays/test_preds.npy\")\n",
    "test_latent = np.load(\"/g/data/x77/ob2720/arrays/test_latent.npy\")"
   ]
  },
  {
   "cell_type": "code",
   "execution_count": 4,
   "id": "dcc25f4c-2a72-4323-a520-17b3fab176de",
   "metadata": {},
   "outputs": [
    {
     "data": {
      "text/plain": [
       "array([0.63093263, 1.81057429])"
      ]
     },
     "execution_count": 4,
     "metadata": {},
     "output_type": "execute_result"
    }
   ],
   "source": []
  },
  {
   "cell_type": "code",
   "execution_count": null,
   "id": "d5de77d2-04d2-4b5b-a5a4-e602ff6fa469",
   "metadata": {},
   "outputs": [],
   "source": [
    "# prediction vectors: shape is (n_samples, 2) of long/lat displacements in degrees\n",
    "train_preds = np.load(\"/g/data/x77/jm0124/feature_vectors/feature-array-outputs-uv-train.npy\")[:,[0,1]]\n",
    "val_preds   = np.load(\"/g/data/x77/jm0124/feature_vectors/feature-array-outputs-uv-val.npy\")  [:,[0,1]]\n",
    "test_preds  = np.load(\"/g/data/x77/jm0124/feature_vectors/feature-array-outputs-uv-test.npy\") [:,[0,1]]\n",
    "\n",
    "def load_labels(f):\n",
    "    with open(f, 'r') as f2:\n",
    "        j = json.load(f2)\n",
    "    ids = j.keys()\n",
    "    labels = []\n",
    "    latent = []\n",
    "    for id_ in ids:\n",
    "        # JSON object has label: [[long_old, long_new], [lat_old, lat_new], [inten, inten]],\n",
    "        # time: int, index: int\n",
    "        long, lat, inten = j[id_]['label']\n",
    "        labels.append([long[1] - long[0], lat[1] - lat[0]])\n",
    "        latent.append([long[0], lat[0], inten[0]])\n",
    "    return np.array(labels), np.array(latent)\n",
    "\n",
    "# Latent stores associated lists of [old_long, old_lat, intensity]\n",
    "train_labels, train_latent = load_labels(\"/g/data/x77/jm0124/feature_vectors/train_feature_labels.json\")\n",
    "val_labels,   val_latent   = load_labels(\"/g/data/x77/jm0124/feature_vectors/val_feature_labels.json\")\n",
    "test_labels,  test_latent  = load_labels(\"/g/data/x77/jm0124/feature_vectors/test_feature_labels.json\")"
   ]
  },
  {
   "cell_type": "code",
   "execution_count": 6,
   "id": "7f342226-5890-428e-8eff-5d306c5784ff",
   "metadata": {},
   "outputs": [
    {
     "name": "stderr",
     "output_type": "stream",
     "text": [
      "IOPub data rate exceeded.\n",
      "The notebook server will temporarily stop sending output\n",
      "to the client in order to avoid crashing it.\n",
      "To change this limit, set the config variable\n",
      "`--NotebookApp.iopub_data_rate_limit`.\n",
      "\n",
      "Current values:\n",
      "NotebookApp.iopub_data_rate_limit=1000000.0 (bytes/sec)\n",
      "NotebookApp.rate_limit_window=3.0 (secs)\n",
      "\n"
     ]
    }
   ],
   "source": [
    "with open(\"/g/data/x77/jm0124/feature_vectors/train_feature_labels.json\", 'r') as f:\n",
    "    j = json.load(f)\n",
    "print(j)"
   ]
  }
 ],
 "metadata": {
  "kernelspec": {
   "display_name": "Python [conda env:analysis3-22.04]",
   "language": "python",
   "name": "conda-env-analysis3-22.04-py"
  },
  "language_info": {
   "codemirror_mode": {
    "name": "ipython",
    "version": 3
   },
   "file_extension": ".py",
   "mimetype": "text/x-python",
   "name": "python",
   "nbconvert_exporter": "python",
   "pygments_lexer": "ipython3",
   "version": "3.9.13"
  }
 },
 "nbformat": 4,
 "nbformat_minor": 5
}
