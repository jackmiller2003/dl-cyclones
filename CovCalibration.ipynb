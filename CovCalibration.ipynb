{
 "cells": [
  {
   "cell_type": "code",
   "execution_count": 2,
   "id": "3872aed8-481e-45ce-9380-82cc4573199a",
   "metadata": {},
   "outputs": [],
   "source": [
    "import numpy as np\n",
    "import scipy\n",
    "import matplotlib.pyplot as plt"
   ]
  },
  {
   "cell_type": "markdown",
   "id": "0db5263e-d54d-42c8-9e59-df31a18226b3",
   "metadata": {},
   "source": [
    "Generate a bunch of points where the covariance is a function of a latent variable"
   ]
  },
  {
   "cell_type": "code",
   "execution_count": 20,
   "id": "58452969-168e-490b-b3c0-a012f7a54404",
   "metadata": {},
   "outputs": [],
   "source": [
    "num_points = 1000\n",
    "latent = np.random.uniform(0, 1, (num_points,))\n",
    "def true_cov(latent):\n",
    "    return np.array([[1, latent-0.5], [latent-0.5, 1]])\n",
    "target = np.array([np.random.multivariate_normal([0,0], true_cov(latent_)) for latent_ in latent])"
   ]
  },
  {
   "cell_type": "markdown",
   "id": "5c9bca60-08f5-49fe-9a9e-bf8c63b9dbf6",
   "metadata": {},
   "source": [
    "Plot all points and fit a multivariate Gaussian to them all to demonstrate the marginal distribution p(target) has a sparse probability density map (as opposed to the conditional density p(target|latent) which should be a tighter ellipse) and that the sample covariance is basically the identity (because the mean of the induced Wishart covariance distribution p(cov) = int_0^1 latent p(cov|latent) d latent is the identity)"
   ]
  },
  {
   "cell_type": "code",
   "execution_count": 23,
   "id": "c2fe5794-a787-402d-a066-2d003c0ef1de",
   "metadata": {},
   "outputs": [
    {
     "data": {
      "image/png": "[encoded data removed]",
      "text/plain": [
       "<Figure size 432x288 with 1 Axes>"
      ]
     },
     "metadata": {
      "needs_background": "light"
     },
     "output_type": "display_data"
    },
    {
     "name": "stdout",
     "output_type": "stream",
     "text": [
      "[[ 1.05154761 -0.00480822]\n",
      " [-0.00480822  1.04266182]]\n"
     ]
    }
   ],
   "source": [
    "plt.scatter(target[:,0], target[:,1])\n",
    "plt.gca().set_aspect('equal', adjustable='box')\n",
    "plt.show()\n",
    "print(np.cov(target.T))"
   ]
  },
  {
   "cell_type": "markdown",
   "id": "8ffe883b-e28e-46db-8a9e-ebdb1e69b4c7",
   "metadata": {},
   "source": [
    "Now we try to estimate the mean of p(cov|latent) using a linear model with least squares (so we're allowed to look at true_cov)"
   ]
  },
  {
   "cell_type": "code",
   "execution_count": 34,
   "id": "30d32949-29fe-4c0e-9167-a076a785c7bd",
   "metadata": {},
   "outputs": [
    {
     "name": "stdout",
     "output_type": "stream",
     "text": [
      "Optimization terminated successfully.\n",
      "         Current function value: 2.699556\n",
      "         Iterations: 554\n",
      "         Function evaluations: 869\n",
      "[-0.03970821  0.89841199 -0.04478199  1.02689904 -0.4317469   1.03025483] \n",
      " 2.6995562099566097\n"
     ]
    }
   ],
   "source": [
    "from scipy.optimize import fmin\n",
    "\n",
    "def pred_cov(w, b, latent_):\n",
    "    return w * latent_ + b\n",
    "\n",
    "def unwrap_cov(threevec):\n",
    "    return np.array([[threevec[0], threevec[1]], [threevec[1], threevec[2]]])\n",
    "\n",
    "def pred(p, latent_):\n",
    "    return unwrap_cov(pred_cov(p[:3], p[3:], latent_))\n",
    "\n",
    "def least_squares(p):\n",
    "    w, b = p[:3], p[3:]\n",
    "    preds = np.array([unwrap_cov(pred_cov(w, b, latent_)) for latent_ in latent])\n",
    "    true = np.array([true_cov(latent_) for latent_ in latent])\n",
    "    return np.sum(np.square(preds - true)).mean()\n",
    "\n",
    "p = fmin(least_squares, np.array([1,1,1,0,0,0]))\n",
    "print(p, '\\n', least_squares(p))"
   ]
  },
  {
   "cell_type": "markdown",
   "id": "bef813b1-8dfb-4a71-ae61-78eeae180593",
   "metadata": {},
   "source": [
    "Now we train without being allowed to look at true_cov or target in our loss function. We're only allowed target and latent\n",
    "\n",
    "We fit the same linear model with a loss function of maximum likelihood"
   ]
  },
  {
   "cell_type": "code",
   "execution_count": 56,
   "id": "f472c30c-8b7f-40d6-9a23-307d78896861",
   "metadata": {},
   "outputs": [],
   "source": [
    "import math\n",
    "def log_zeromean_multivariate_normal_pdf(x, cov):\n",
    "    k = cov.shape[0]\n",
    "    return -0.5 * (k * math.log(2*math.pi) + math.log(np.linalg.det(cov)) + x.T @ np.linalg.pinv(cov) @ x)"
   ]
  },
  {
   "cell_type": "code",
   "execution_count": 98,
   "id": "a8b3c6de-9507-403b-8528-57ac670b938f",
   "metadata": {},
   "outputs": [
    {
     "name": "stdout",
     "output_type": "stream",
     "text": [
      "Optimization terminated successfully.\n",
      "         Current function value: 2.832365\n",
      "         Iterations: 591\n",
      "         Function evaluations: 912\n"
     ]
    }
   ],
   "source": [
    "def neg_log_likelihood(p,d=True):\n",
    "    w, b = p[:3], p[3:]\n",
    "    preds = np.array([unwrap_cov(pred_cov(w, b, latent_)) for latent_ in latent])\n",
    "    # quadratic term inside the multivariate normal PDF\n",
    "    # this is proportional to log N(x|0,cov)\n",
    "    scaled_p_values = []\n",
    "    failed = 0\n",
    "    for x, cov in zip(target, preds):\n",
    "        if np.linalg.det(cov) > 0:\n",
    "            scaled_p_values.append(log_zeromean_multivariate_normal_pdf(x, cov))\n",
    "        else:\n",
    "            failed += 1\n",
    "            scaled_p_values.append(-999999)\n",
    "    # if failed > 0: print(f\"{failed/num_points:2%}\")\n",
    "    # elif not d: print(' '.join([f\"{p:.2}\" for p in scaled_p_values]))\n",
    "\n",
    "    return -np.array(scaled_p_values).mean() # negate so fmin maximises likelihood\n",
    "\n",
    "q = fmin(neg_log_likelihood, np.array([1,1,1,0,0,0]))"
   ]
  },
  {
   "cell_type": "markdown",
   "id": "35355180-3f38-4cf1-a0ae-e568db67fb89",
   "metadata": {},
   "source": [
    "t: the weights that give rise to the true conditional covariance function\n",
    "\n",
    "g: the weights that give rise to the global/marginal/unconditioned covariance matrix\n",
    "\n",
    "q: our MLE solution without knowledge of the true covariance\n",
    "\n",
    "p: our least squares solution with knowledge of true covariance"
   ]
  },
  {
   "cell_type": "code",
   "execution_count": 104,
   "id": "7a67f7fc-007d-4a3f-804c-70cae1160156",
   "metadata": {},
   "outputs": [
    {
     "name": "stdout",
     "output_type": "stream",
     "text": [
      "t:  [ 0.   1.   0.   1.  -0.5  1. ] \n",
      " 5.88% 0.0\n",
      "g:  [0 0 0 1 0 1] \n",
      " 5.59% 167.46598141290644\n",
      "q:  [-0.23920754  1.14918896 -0.05295913  1.20535002 -0.59888319  1.04718581] \n",
      " 5.89% 17.370827287070675\n",
      "p:  [-0.03970821  0.89841199 -0.04478199  1.02689904 -0.4317469   1.03025483] \n",
      " 5.88% 2.6995562099566097\n"
     ]
    }
   ],
   "source": [
    "t = np.array([0, 1, 0, 1, -0.5, 1]) # true cov function\n",
    "g = np.array([0, 0, 0, 1, 0, 1]) # global true cov\n",
    "def P(k): return f\"{math.exp(-neg_log_likelihood(k, d=False)):.2%}\"\n",
    "print('t: ', t, '\\n', P(t), least_squares(t))\n",
    "print('g: ', g, '\\n', P(g), least_squares(g))\n",
    "print('q: ', q, '\\n', P(q), least_squares(q))\n",
    "print('p: ', p, '\\n', P(p), least_squares(p))"
   ]
  }
 ],
 "metadata": {
  "kernelspec": {
   "display_name": "Python 3 (ipykernel)",
   "language": "python",
   "name": "python3"
  },
  "language_info": {
   "codemirror_mode": {
    "name": "ipython",
    "version": 3
   },
   "file_extension": ".py",
   "mimetype": "text/x-python",
   "name": "python",
   "nbconvert_exporter": "python",
   "pygments_lexer": "ipython3",
   "version": "3.10.2"
  }
 },
 "nbformat": 4,
 "nbformat_minor": 5
}
